{
  "nbformat": 4,
  "nbformat_minor": 0,
  "metadata": {
    "colab": {
      "provenance": [],
      "authorship_tag": "ABX9TyNU6KUrvzZP2T0frnHTIuc8",
      "include_colab_link": true
    },
    "kernelspec": {
      "name": "python3",
      "display_name": "Python 3"
    },
    "language_info": {
      "name": "python"
    }
  },
  "cells": [
    {
      "cell_type": "markdown",
      "metadata": {
        "id": "view-in-github",
        "colab_type": "text"
      },
      "source": [
        "<a href=\"https://colab.research.google.com/github/hexacore8014/DataScience/blob/main/Project.ipynb\" target=\"_parent\"><img src=\"https://colab.research.google.com/assets/colab-badge.svg\" alt=\"Open In Colab\"/></a>"
      ]
    },
    {
      "cell_type": "code",
      "execution_count": null,
      "metadata": {
        "id": "z53LUvk_oSsm"
      },
      "outputs": [],
      "source": [
        "import pandas as pd\n",
        "import numpy as np\n",
        "import matplotlib.pyplot as plt\n",
        "import os, shutil\n",
        "import cv2\n",
        "import matplotlib.image as mpimg\n",
        "import seaborn as sns\n",
        "%matplotlib inline\n",
        "plt.style.use('ggplot')"
      ]
    },
    {
      "cell_type": "code",
      "source": [
        "# Dataset\n",
        "import zipfile\n",
        "\n",
        "z = zipfile.ZipFile('archive.zip')\n",
        "\n",
        "z.extractall()"
      ],
      "metadata": {
        "id": "-5T2d2csoeTa"
      },
      "execution_count": null,
      "outputs": []
    },
    {
      "cell_type": "code",
      "source": [
        "folder = 'brain_tumor_dataset/yes/'\n",
        "count = 1\n",
        "\n",
        "for filename in os.listdir(folder):\n",
        "    source = folder + filename\n",
        "    destination = folder + \"Y_\" +str(count)+\".jpg\"\n",
        "    os.rename(source, destination)\n",
        "    count+=1\n",
        "print(\"All files are renamed in the yes dir.\")"
      ],
      "metadata": {
        "id": "gUC-oOa-omcQ"
      },
      "execution_count": null,
      "outputs": []
    },
    {
      "cell_type": "code",
      "source": [
        "folder = 'brain_tumor_dataset/no/'\n",
        "count = 1\n",
        "\n",
        "for filename in os.listdir(folder):\n",
        "    source = folder + filename\n",
        "    destination = folder + \"N_\" +str(count)+\".jpg\"\n",
        "    os.rename(source, destination)\n",
        "    count+=1\n",
        "print(\"All files are renamed in the no dir.\")"
      ],
      "metadata": {
        "id": "gkYRmyddoq0f"
      },
      "execution_count": null,
      "outputs": []
    },
    {
      "cell_type": "code",
      "source": [
        "listyes = os.listdir(\"brain_tumor_dataset/yes/\")\n",
        "number_files_yes = len(listyes)\n",
        "print(number_files_yes)\n",
        "\n",
        "listno = os.listdir(\"brain_tumor_dataset/no/\")\n",
        "number_files_no = len(listno)\n",
        "print(number_files_no)"
      ],
      "metadata": {
        "id": "3gWGLTUkoxYQ"
      },
      "execution_count": null,
      "outputs": []
    },
    {
      "cell_type": "code",
      "source": [
        "data = {'tumorous': number_files_yes, 'non-tumorous': number_files_no}\n",
        "\n",
        "typex = data.keys()\n",
        "values = data.values()\n",
        "\n",
        "fig = plt.figure(figsize=(5,7))\n",
        "\n",
        "plt.bar(typex, values, color=\"red\")\n",
        "\n",
        "plt.xlabel(\"Data\")\n",
        "plt.ylabel(\"No of Brain Tumor Images\")\n",
        "plt.title(\"Count of Brain Tumor Images\")\n",
        "plt.show()\n"
      ],
      "metadata": {
        "id": "22uTv1HSoz3Q"
      },
      "execution_count": null,
      "outputs": []
    },
    {
      "cell_type": "code",
      "source": [
        "import tensorflow as tf\n",
        "from tensorflow.keras.preprocessing.image import ImageDataGenerator\n",
        "from tensorflow.keras.models import Model\n",
        "from tensorflow.keras.layers import Flatten, Dense, Dropout\n",
        "from tensorflow.keras.applications.vgg19 import VGG19\n",
        "from tensorflow.keras.optimizers import SGD, Adam\n",
        "from tensorflow.keras.callbacks import ModelCheckpoint, EarlyStopping, ReduceLROnPlateau"
      ],
      "metadata": {
        "id": "_f5c4j-4o6Qw"
      },
      "execution_count": null,
      "outputs": []
    },
    {
      "cell_type": "code",
      "source": [
        "def timing(sec_elapsed):\n",
        "    h = int(sec_elapsed / (60*60))\n",
        "    m = int(sec_elapsed % (60*60) / 60)\n",
        "    s = sec_elapsed % 60\n",
        "    return f\"{h}:{m}:{s}\""
      ],
      "metadata": {
        "id": "AQdxwLwIo7BC"
      },
      "execution_count": null,
      "outputs": []
    },
    {
      "cell_type": "code",
      "source": [
        "def augmented_data(file_dir, n_generated_samples, save_to_dir):\n",
        "    data_gen = ImageDataGenerator(rotation_range=10,\n",
        "                      width_shift_range=0.1,\n",
        "                      height_shift_range=0.1,\n",
        "                      shear_range=0.1,\n",
        "                      brightness_range=(0.3, 1.0),\n",
        "                      horizontal_flip=True,\n",
        "                      vertical_flip=True,\n",
        "                      fill_mode='nearest')\n",
        "    for filename in os.listdir(file_dir):\n",
        "        image = cv2.imread(file_dir + '/' + filename)\n",
        "        image = image.reshape((1,) + image.shape)\n",
        "        save_prefix = 'aug_' + filename[:-4]\n",
        "        i=0\n",
        "        for batch in data_gen.flow(x = image, batch_size = 1, save_to_dir = save_to_dir, save_prefix = save_prefix, save_format = \"jpg\"):\n",
        "            i+=1\n",
        "            if i>n_generated_samples:\n",
        "                break"
      ],
      "metadata": {
        "id": "yA3jP7Hno--n"
      },
      "execution_count": null,
      "outputs": []
    },
    {
      "cell_type": "code",
      "source": [
        "import time\n",
        "start_time = time.time()\n",
        "\n",
        "yes_path = 'brain_tumor_dataset/yes'\n",
        "no_path = 'brain_tumor_dataset/no'\n",
        "\n",
        "augmented_data_path = 'augmented_data/'\n",
        "\n",
        "# Create directories if they don't exist\n",
        "os.makedirs(augmented_data_path + 'yes', exist_ok=True)\n",
        "os.makedirs(augmented_data_path + 'no', exist_ok=True)\n",
        "\n",
        "augmented_data(file_dir = yes_path, n_generated_samples=6, save_to_dir=augmented_data_path+'yes')\n",
        "augmented_data(file_dir = no_path, n_generated_samples=9, save_to_dir=augmented_data_path+'no')\n",
        "\n",
        "end_time = time.time()\n",
        "execution_time = end_time - start_time\n",
        "print(timing(execution_time))"
      ],
      "metadata": {
        "id": "Vvjyzh4bpBit"
      },
      "execution_count": null,
      "outputs": []
    },
    {
      "cell_type": "code",
      "source": [
        "def data_summary(main_path):\n",
        "    yes_path = \"augmented_data/yes/\"\n",
        "    no_path = \"augmented_data/no/\"\n",
        "\n",
        "    n_pos = len(os.listdir(yes_path))\n",
        "    n_neg = len(os.listdir(no_path))\n",
        "\n",
        "    n = (n_pos + n_neg)\n",
        "\n",
        "    pos_per = (n_pos*100)/n\n",
        "    neg_per = (n_neg*100)/n\n",
        "\n",
        "    print(f\"Number of sample: {n}\")\n",
        "    print(f\"{n_pos} Number of positive sample in percentage: {pos_per}%\")\n",
        "    print(f\"{n_neg} Number of negative sample in percentage: {neg_per}%\")"
      ],
      "metadata": {
        "id": "EbHtDnAJpE03"
      },
      "execution_count": null,
      "outputs": []
    },
    {
      "cell_type": "code",
      "source": [
        "data_summary(augmented_data_path)"
      ],
      "metadata": {
        "id": "5cjPXVhqrXf6"
      },
      "execution_count": null,
      "outputs": []
    },
    {
      "cell_type": "code",
      "source": [
        "listyes = os.listdir(\"augmented_data/yes/\")\n",
        "number_files_yes = len(listyes)\n",
        "print(number_files_yes)\n",
        "\n",
        "listno = os.listdir(\"augmented_data/no/\")\n",
        "number_files_no = len(listno)\n",
        "print(number_files_no)"
      ],
      "metadata": {
        "id": "94QTkrGsrZd-"
      },
      "execution_count": null,
      "outputs": []
    },
    {
      "cell_type": "code",
      "source": [
        "data = {'tumorous': number_files_yes, 'non-tumorous': number_files_no}\n",
        "\n",
        "typex = data.keys()\n",
        "values = data.values()\n",
        "\n",
        "fig = plt.figure(figsize=(5,7))\n",
        "\n",
        "plt.bar(typex, values, color=\"red\")\n",
        "\n",
        "plt.xlabel(\"Data\")\n",
        "plt.ylabel(\"No of Brain Tumor Images\")\n",
        "plt.title(\"Count of Brain Tumor Images\")\n",
        "plt.show()"
      ],
      "metadata": {
        "id": "93VNrc2rrdSJ"
      },
      "execution_count": null,
      "outputs": []
    },
    {
      "cell_type": "code",
      "source": [
        "import imutils\n",
        "def crop_brain_tumor(image, plot=False):\n",
        "    gray = cv2.cvtColor(image, cv2.COLOR_BGR2GRAY)\n",
        "    gray = cv2.GaussianBlur(gray, (5,5), 0)\n",
        "\n",
        "    thres = cv2.threshold(gray, 45, 255, cv2.THRESH_BINARY)[1]\n",
        "    thres =cv2.erode(thres, None, iterations = 2)\n",
        "    thres = cv2.dilate(thres, None, iterations = 2)\n",
        "\n",
        "    cnts = cv2.findContours(thres.copy(), cv2.RETR_EXTERNAL, cv2.CHAIN_APPROX_SIMPLE)\n",
        "    cnts = imutils.grab_contours(cnts)\n",
        "    c = max(cnts, key = cv2.contourArea)\n",
        "\n",
        "    extLeft = tuple(c[c[:,:,0].argmin()][0])\n",
        "    extRight = tuple(c[c[:,:,0].argmax()][0])\n",
        "    extTop = tuple(c[c[:,:,1].argmin()][0])\n",
        "    extBot = tuple(c[c[:,:,1].argmax()][0])\n",
        "\n",
        "    new_image = image[extTop[1]:extBot[1], extLeft[0]:extRight[0]]\n",
        "\n",
        "    if plot:\n",
        "        plt.figure()\n",
        "        plt.subplot(1, 2, 1)\n",
        "        plt.imshow(image)\n",
        "\n",
        "        plt.tick_params(axis='both', which='both',\n",
        "                        top=False, bottom=False, left=False, right=False,\n",
        "                        labelbottom=False, labeltop=False, labelleft=False, labelright=False)\n",
        "\n",
        "        plt.title('Original Image')\n",
        "\n",
        "        plt.subplot(1, 2, 2)\n",
        "        plt.imshow(new_image)\n",
        "\n",
        "        plt.tick_params(axis='both', which='both',\n",
        "                        top=False, bottom=False, left=False, right=False,\n",
        "                        labelbottom=False, labeltop=False, labelleft=False, labelright=False)\n",
        "\n",
        "        plt.title('Cropped Image')\n",
        "        plt.show()\n",
        "    return new_image"
      ],
      "metadata": {
        "id": "AJzIqFLCrlG-"
      },
      "execution_count": null,
      "outputs": []
    },
    {
      "cell_type": "code",
      "source": [
        "img = cv2.imread('augmented_data/yes/aug_Y_100_0_1279.jpg')\n",
        "crop_brain_tumor(img, True)"
      ],
      "metadata": {
        "id": "dBH7QavKrojb"
      },
      "execution_count": null,
      "outputs": []
    },
    {
      "cell_type": "code",
      "source": [
        "img = cv2.imread('augmented_data/no/aug_N_10_0_1998.jpg')\n",
        "crop_brain_tumor(img, True)"
      ],
      "metadata": {
        "id": "dtZnTkiSrrob"
      },
      "execution_count": null,
      "outputs": []
    },
    {
      "cell_type": "code",
      "source": [
        "folder1 = 'augmented_data/no/'\n",
        "folder2 = 'augmented_data/yes/'\n",
        "\n",
        "for filename in os.listdir(folder1):\n",
        "    img = cv2.imread(folder1 + filename)\n",
        "    img = crop_brain_tumor(img, False)\n",
        "    cv2.imwrite(folder1 + filename, img)\n",
        "for filename in os.listdir(folder2):\n",
        "    img = cv2.imread(folder2 + filename)\n",
        "    img = crop_brain_tumor(img, False)\n",
        "    cv2.imwrite(folder2 + filename, img)"
      ],
      "metadata": {
        "id": "563BoOkY3CEd"
      },
      "execution_count": null,
      "outputs": []
    },
    {
      "cell_type": "code",
      "source": [
        "from sklearn.utils import shuffle\n",
        "def load_data(dir_list, image_size):\n",
        "    X=[]\n",
        "    y=[]\n",
        "\n",
        "    image_width, image_height=image_size\n",
        "\n",
        "    for directory in dir_list:\n",
        "        for filename in os.listdir(directory):\n",
        "            image = cv2.imread(directory + '/' + filename)\n",
        "            image = crop_brain_tumor(image, plot=False)\n",
        "            image = cv2.resize(image, dsize=(image_width, image_height), interpolation = cv2.INTER_CUBIC)\n",
        "            image = image/255.00\n",
        "            X.append(image)\n",
        "            if directory[-3:] == \"yes\":\n",
        "                y.append(1)\n",
        "            else:\n",
        "                y.append(0)\n",
        "    X=np.array(X)\n",
        "    y=np.array(y)\n",
        "\n",
        "    X,y = shuffle(X,y)\n",
        "    print(f\"Number of example is : {len(X)}\")\n",
        "    print(f\"X SHAPE is : {X.shape}\")\n",
        "    print(f\"y SHAPE is : {y.shape}\")\n",
        "    return X,y"
      ],
      "metadata": {
        "id": "LATjYNBq3Fnm"
      },
      "execution_count": null,
      "outputs": []
    },
    {
      "cell_type": "code",
      "source": [
        "augmented_path = 'augmented_data/'\n",
        "augmeneted_yes = augmented_path + 'yes'\n",
        "augmeneted_no = augmented_path + 'no'\n",
        "\n",
        "IMAGE_WIDTH, IMAGE_HEIGHT = (240,240)\n",
        "\n",
        "X,y = load_data([augmeneted_yes, augmeneted_no], (IMAGE_WIDTH, IMAGE_HEIGHT))"
      ],
      "metadata": {
        "id": "BKof48MZ3Iwf"
      },
      "execution_count": null,
      "outputs": []
    },
    {
      "cell_type": "code",
      "source": [
        "def plot_sample_images(X, y, n=50):\n",
        "\n",
        "    for label in [0,1]:\n",
        "        images = X[np.argwhere(y == label)]\n",
        "        n_images = images[:n]\n",
        "\n",
        "        columns_n = 10\n",
        "        rows_n = int(n/ columns_n)\n",
        "\n",
        "        plt.figure(figsize=(20, 10))\n",
        "\n",
        "        i = 1\n",
        "        for image in n_images:\n",
        "            plt.subplot(rows_n, columns_n, i)\n",
        "            plt.imshow(image[0])\n",
        "\n",
        "            plt.tick_params(axis='both', which='both',\n",
        "                            top=False, bottom=False, left=False, right=False,\n",
        "                            labelbottom=False, labeltop=False, labelleft=False,\n",
        "                            labelright=False)\n",
        "\n",
        "            i += 1\n",
        "\n",
        "        label_to_str = lambda label: \"Yes\" if label == 1 else \"No\"\n",
        "        plt.suptitle(f\"Brain Tumor: {label_to_str(label)}\")\n",
        "        plt.show()"
      ],
      "metadata": {
        "id": "bW9dizis3Lba"
      },
      "execution_count": null,
      "outputs": []
    },
    {
      "cell_type": "code",
      "source": [
        "plot_sample_images(X,y)"
      ],
      "metadata": {
        "id": "yEFmRdOX3PhF"
      },
      "execution_count": null,
      "outputs": []
    },
    {
      "cell_type": "code",
      "source": [
        "if not os.path.isdir('tumorous_and_nontumorous'):\n",
        "    base_dir = 'tumorous_and_nontumorous'\n",
        "    os.mkdir(base_dir)"
      ],
      "metadata": {
        "id": "pL1x4RyQ3RwY"
      },
      "execution_count": null,
      "outputs": []
    },
    {
      "cell_type": "code",
      "source": [
        "if not os.path.isdir('tumorous_and_nontumorous/train'):\n",
        "    train_dir = os.path.join(base_dir , 'train')\n",
        "    os.mkdir(train_dir)\n",
        "if not os.path.isdir('tumorous_and_nontumorous/test'):\n",
        "    test_dir = os.path.join(base_dir , 'test')\n",
        "    os.mkdir(test_dir)\n",
        "if not os.path.isdir('tumorous_and_nontumorous/valid'):\n",
        "    valid_dir = os.path.join(base_dir , 'valid')\n",
        "    os.mkdir(valid_dir)"
      ],
      "metadata": {
        "id": "3fLrNRWP3Vdl"
      },
      "execution_count": null,
      "outputs": []
    },
    {
      "cell_type": "code",
      "source": [
        "if not os.path.isdir('tumorous_and_nontumorous/train/tumorous'):\n",
        "    infected_train_dir = os.path.join(train_dir, 'tumorous')\n",
        "    os.mkdir(infected_train_dir)\n",
        "if not os.path.isdir('tumorous_and_nontumorous/test/tumorous'):\n",
        "    infected_test_dir = os.path.join(test_dir, 'tumorous')\n",
        "    os.mkdir(infected_test_dir)\n",
        "if not os.path.isdir('tumorous_and_nontumorous/valid/tumorous'):\n",
        "    infected_valid_dir = os.path.join(valid_dir, 'tumorous')\n",
        "    os.mkdir(infected_valid_dir)"
      ],
      "metadata": {
        "id": "pO7i0mJN3YCA"
      },
      "execution_count": null,
      "outputs": []
    },
    {
      "cell_type": "code",
      "source": [
        "if not os.path.isdir('tumorous_and_nontumorous/train/nontumorous'):\n",
        "    healthy_train_dir = os.path.join(train_dir, 'nontumorous')\n",
        "    os.mkdir(healthy_train_dir)\n",
        "if not os.path.isdir('tumorous_and_nontumorous/test/nontumorous'):\n",
        "    healthy_test_dir = os.path.join(test_dir, 'nontumorous')\n",
        "    os.mkdir(healthy_test_dir)\n",
        "if not os.path.isdir('tumorous_and_nontumorous/valid/nontumorous'):\n",
        "    healthy_valid_dir = os.path.join(valid_dir, 'nontumorous')\n",
        "    os.mkdir(healthy_valid_dir)"
      ],
      "metadata": {
        "id": "GqiJHyR53Z7P"
      },
      "execution_count": null,
      "outputs": []
    },
    {
      "cell_type": "code",
      "source": [
        "original_dataset_tumorours = os.path.join('augmented_data','yes/')\n",
        "original_dataset_nontumorours = os.path.join('augmented_data','no/')"
      ],
      "metadata": {
        "id": "CeX0Pec83cBp"
      },
      "execution_count": null,
      "outputs": []
    },
    {
      "cell_type": "code",
      "source": [
        "files = os.listdir('augmented_data/yes/')\n",
        "fnames = []\n",
        "for i in range(0,759):\n",
        "    fnames.append(files[i])\n",
        "for fname in fnames:\n",
        "    src = os.path.join(original_dataset_tumorours, fname)\n",
        "    dst = os.path.join(infected_train_dir, fname)\n",
        "    shutil.copyfile(src, dst)\n"
      ],
      "metadata": {
        "id": "oqFwcQd83epe"
      },
      "execution_count": null,
      "outputs": []
    },
    {
      "cell_type": "code",
      "source": [
        "files = os.listdir('augmented_data/yes/')\n",
        "fnames = []\n",
        "for i in range(759,922):\n",
        "    fnames.append(files[i])\n",
        "for fname in fnames:\n",
        "    src = os.path.join(original_dataset_tumorours, fname)\n",
        "    dst = os.path.join(infected_test_dir, fname)\n",
        "    shutil.copyfile(src, dst)"
      ],
      "metadata": {
        "id": "UQsFdsvO3lAk"
      },
      "execution_count": null,
      "outputs": []
    },
    {
      "cell_type": "code",
      "source": [
        "files = os.listdir('augmented_data/yes/')\n",
        "fnames = []\n",
        "for i in range(922,1085):\n",
        "    fnames.append(files[i])\n",
        "for fname in fnames:\n",
        "    src = os.path.join(original_dataset_tumorours, fname)\n",
        "    dst = os.path.join(infected_valid_dir, fname)\n",
        "    shutil.copyfile(src, dst)"
      ],
      "metadata": {
        "id": "dfKIo7JU3m_5"
      },
      "execution_count": null,
      "outputs": []
    },
    {
      "cell_type": "code",
      "source": [
        "files = os.listdir('augmented_data/no/')\n",
        "fnames = []\n",
        "for i in range(0,686):\n",
        "    fnames.append(files[i])\n",
        "for fname in fnames:\n",
        "    src = os.path.join(original_dataset_nontumorours, fname)\n",
        "    dst = os.path.join(healthy_train_dir, fname)\n",
        "    shutil.copyfile(src, dst)"
      ],
      "metadata": {
        "id": "BDwYh1tL3qg2"
      },
      "execution_count": null,
      "outputs": []
    },
    {
      "cell_type": "code",
      "source": [
        "files = os.listdir('augmented_data/no/')\n",
        "fnames = []\n",
        "for i in range(686,833):\n",
        "    fnames.append(files[i])\n",
        "for fname in fnames:\n",
        "    src = os.path.join(original_dataset_nontumorours, fname)\n",
        "    dst = os.path.join(healthy_test_dir, fname)\n",
        "    shutil.copyfile(src, dst)"
      ],
      "metadata": {
        "id": "SSKKvNJl4C4W"
      },
      "execution_count": null,
      "outputs": []
    },
    {
      "cell_type": "code",
      "source": [
        "files = os.listdir('augmented_data/no/')\n",
        "fnames = []\n",
        "for i in range(833,979):\n",
        "    fnames.append(files[i])\n",
        "for fname in fnames:\n",
        "    src = os.path.join(original_dataset_nontumorours, fname)\n",
        "    dst = os.path.join(healthy_valid_dir, fname)\n",
        "    shutil.copyfile(src, dst)"
      ],
      "metadata": {
        "id": "f0ERy6Wr4FYL"
      },
      "execution_count": null,
      "outputs": []
    },
    {
      "cell_type": "code",
      "source": [
        "train_datagen = ImageDataGenerator(rescale = 1./255,\n",
        "                  horizontal_flip=0.4,\n",
        "                  vertical_flip=0.4,\n",
        "                  rotation_range=40,\n",
        "                  shear_range=0.2,\n",
        "                  width_shift_range=0.4,\n",
        "                  height_shift_range=0.4,\n",
        "                  fill_mode='nearest')\n",
        "test_data_gen = ImageDataGenerator(rescale=1.0/255)\n",
        "valid_data_gen = ImageDataGenerator(rescale=1.0/255)"
      ],
      "metadata": {
        "id": "kgtjjEng4Hnw"
      },
      "execution_count": null,
      "outputs": []
    },
    {
      "cell_type": "code",
      "source": [
        "train_generator = train_datagen.flow_from_directory('tumorous_and_nontumorous/train/', batch_size=32, target_size=(240,240), class_mode='categorical',shuffle=True, seed = 42, color_mode = 'rgb')"
      ],
      "metadata": {
        "id": "uogPQVa74KJ-"
      },
      "execution_count": null,
      "outputs": []
    },
    {
      "cell_type": "code",
      "source": [
        "test_generator = train_datagen.flow_from_directory('tumorous_and_nontumorous/test/', batch_size=32, target_size=(240,240), class_mode='categorical',shuffle=True, seed = 42, color_mode = 'rgb')"
      ],
      "metadata": {
        "id": "PZeY8BZs4NWr"
      },
      "execution_count": null,
      "outputs": []
    },
    {
      "cell_type": "code",
      "source": [
        "valid_generator = train_datagen.flow_from_directory('tumorous_and_nontumorous/valid/', batch_size=32, target_size=(240,240), class_mode='categorical',shuffle=True, seed = 42, color_mode = 'rgb')"
      ],
      "metadata": {
        "id": "9dvcT8RI4P-B"
      },
      "execution_count": null,
      "outputs": []
    },
    {
      "cell_type": "code",
      "source": [
        "class_labels = train_generator.class_indices\n",
        "class_name = {value: key for (key,value) in class_labels.items()}"
      ],
      "metadata": {
        "id": "axolpNVm4TFp"
      },
      "execution_count": null,
      "outputs": []
    },
    {
      "cell_type": "code",
      "source": [
        "class_name"
      ],
      "metadata": {
        "id": "CVQiCIkn4WdU"
      },
      "execution_count": null,
      "outputs": []
    },
    {
      "cell_type": "code",
      "source": [
        "base_model = VGG19(input_shape = (240,240,3), include_top=False, weights='imagenet')\n",
        "\n",
        "for layer in base_model.layers:\n",
        "    layer.trainable=False\n",
        "\n",
        "x=base_model.output\n",
        "flat = Flatten()(x)\n",
        "\n",
        "class_1 = Dense(4608, activation = 'relu')(flat)\n",
        "drop_out = Dropout(0.2)(class_1)\n",
        "class_2 = Dense(1152, activation = 'relu')(drop_out)\n",
        "output = Dense(2, activation = 'softmax')(class_2)\n",
        "\n",
        "model_01 = Model(base_model.input, output)\n",
        "model_01.summary()"
      ],
      "metadata": {
        "id": "yUXD4cW04Zn_"
      },
      "execution_count": null,
      "outputs": []
    },
    {
      "cell_type": "code",
      "source": [
        "# callback\n",
        "filepath = 'model.h5'\n",
        "es = EarlyStopping(monitor='val_loss', verbose = 1, mode='min',patience=4)\n",
        "cp = ModelCheckpoint(filepath, monitor='val_loss', verbose = 1, save_best_only=True, save_weights_only=False, mode='auto',save_freq='epoch')\n",
        "lrr = ReduceLROnPlateau(monitor='val_accuarcy', patience=3, verbose = 1, factor = 0.5, min_lr = 0.0001)"
      ],
      "metadata": {
        "id": "n939SmSX4b8J"
      },
      "execution_count": null,
      "outputs": []
    },
    {
      "cell_type": "code",
      "source": [
        "sgd = SGD(learning_rate=0.0001, decay = 1e-6, momentum = 0.9, nesterov = True)\n",
        "model_01.compile(loss='categorical_crossentropy', optimizer = sgd, metrics=['accuracy'])"
      ],
      "metadata": {
        "id": "oAjFpvQT4fJX"
      },
      "execution_count": null,
      "outputs": []
    },
    {
      "cell_type": "code",
      "source": [
        "history_01 = model_01.fit(train_generator, steps_per_epoch=10, epochs = 2, callbacks=[es,cp,lrr], validation_data=valid_generator)"
      ],
      "metadata": {
        "id": "lE-O3-dJ4hYk"
      },
      "execution_count": null,
      "outputs": []
    },
    {
      "cell_type": "code",
      "source": [
        "# Plot performance\n",
        "fig, (ax1,ax2) = plt.subplots(nrows=1, ncols=2, figsize=(12,6))\n",
        "fig.suptitle(\"Model Training (Frozen CNN)\", fontsize=12)\n",
        "max_epoch = len(history_01.history['accuracy'])+1\n",
        "epochs_list = list(range(1, max_epoch))\n",
        "\n",
        "ax1.plot(epochs_list, history_01.history['accuracy'], color='b', linestyle='-', label='Training Data')\n",
        "ax1.plot(epochs_list, history_01.history['val_accuracy'], color='r', linestyle='-', label='Validation Data')\n",
        "ax1.set_title('Training Accuracy', fontsize=12)\n",
        "ax1.set_xlabel('Epochs', fontsize=12)\n",
        "ax1.set_ylabel('Accuracy', fontsize=12)\n",
        "ax1.legend(frameon=False, loc='lower center', ncol=2)\n",
        "\n",
        "ax2.plot(epochs_list, history_01.history['loss'], color='b', linestyle='-', label='Training Data')\n",
        "ax2.plot(epochs_list, history_01.history['val_loss'], color='r', linestyle='-', label='Validation Data')\n",
        "ax2.set_title('Training Loss', fontsize=12)\n",
        "ax2.set_xlabel('Epochs', fontsize=12)\n",
        "ax2.set_ylabel('Loss', fontsize=12)\n",
        "ax2.legend(frameon=False, loc='upper center', ncol=2)\n",
        "plt.savefig(\"training_frozencnn.jpeg\", format='jpeg', dpi=100, bbox_inches='tight')"
      ],
      "metadata": {
        "id": "ytPt4pFb4keT"
      },
      "execution_count": null,
      "outputs": []
    },
    {
      "cell_type": "code",
      "source": [
        "if not os.path.isdir('model_weights/'):\n",
        "    os.mkdir('model_weights/')\n",
        "model_01.save_weights(filepath=\"model_weights/vgg19_model_01.weights.h5\", overwrite=True)"
      ],
      "metadata": {
        "id": "RqGjZMYe9O7P"
      },
      "execution_count": null,
      "outputs": []
    },
    {
      "cell_type": "code",
      "source": [
        "model_01.load_weights(\"model_weights/vgg19_model_01.weights.h5\")\n",
        "vgg_val_eval_01 = model_01.evaluate(valid_generator)\n",
        "vgg_test_eval_01 = model_01.evaluate(test_generator)"
      ],
      "metadata": {
        "id": "UFRfbw_99Wob"
      },
      "execution_count": null,
      "outputs": []
    },
    {
      "cell_type": "code",
      "source": [
        "print(f'Validation Loss: {vgg_val_eval_01[0]}')\n",
        "print(f'Validation Acc: {vgg_val_eval_01[1]}')\n",
        "print(f'Testing Loss: {vgg_test_eval_01[0]}')\n",
        "print(f'Testing Acc: {vgg_test_eval_01[1]}')"
      ],
      "metadata": {
        "id": "3NA0z0Fe9vtq"
      },
      "execution_count": null,
      "outputs": []
    },
    {
      "cell_type": "code",
      "source": [
        "filenames = test_generator.filenames\n",
        "nb_sample = len(filenames)\n",
        "\n",
        "vgg_prediction_01 = model_01.predict(test_generator, steps=nb_sample, verbose = 1)\n",
        "y_pred = np.argmax(vgg_prediction_01, axis=1)"
      ],
      "metadata": {
        "id": "SEvBAdQLAJEm"
      },
      "execution_count": null,
      "outputs": []
    },
    {
      "cell_type": "code",
      "source": [
        "base_model = VGG19(include_top=False, input_shape=(240,240,3))\n",
        "base_model_layer_names = [layer.name for layer in base_model.layers]\n",
        "base_model_layer_names"
      ],
      "metadata": {
        "id": "9xsit3kOAL4j"
      },
      "execution_count": null,
      "outputs": []
    },
    {
      "cell_type": "code",
      "source": [
        "base_model = VGG19(include_top=False, input_shape=(240,240,3))\n",
        "base_model_layer_names = [layer.name for layer in base_model.layers]\n",
        "base_model_layer_names\n",
        "\n",
        "x=base_model.output\n",
        "flat = Flatten()(x)\n",
        "\n",
        "class_1 = Dense(4608, activation = 'relu')(flat)\n",
        "drop_out = Dropout(0.2)(class_1)\n",
        "class_2 = Dense(1152, activation = 'relu')(drop_out)\n",
        "output = Dense(2, activation = 'softmax')(class_2)\n",
        "\n",
        "model_02 = Model(base_model.inputs, output)\n",
        "model_02.load_weights('model_weights/vgg19_model_01.weights.h5')\n",
        "\n",
        "set_trainable=False\n",
        "for layer in base_model.layers:\n",
        "    if layer.name in ['block5_conv4','block5_conv3']:\n",
        "        set_trainable=True\n",
        "    if set_trainable:\n",
        "        layer.trainable=True\n",
        "    else:\n",
        "        layer.trainable=False\n",
        "\n",
        "print(model_02.summary())"
      ],
      "metadata": {
        "id": "IFxsxQpPBR7A"
      },
      "execution_count": null,
      "outputs": []
    },
    {
      "cell_type": "code",
      "source": [
        "sgd = SGD(learning_rate=0.0001, decay = 1e-6, momentum = 0.9, nesterov = True)\n",
        "model_02.compile(loss='categorical_crossentropy', optimizer = sgd, metrics=['accuracy'])"
      ],
      "metadata": {
        "id": "62Wldy5UBWCd"
      },
      "execution_count": null,
      "outputs": []
    },
    {
      "cell_type": "code",
      "source": [
        "history_02 = model_02.fit(train_generator, steps_per_epoch=10, epochs = 2, callbacks=[es,cp,lrr], validation_data=valid_generator)"
      ],
      "metadata": {
        "id": "OeMvGM0xBj-s"
      },
      "execution_count": null,
      "outputs": []
    },
    {
      "cell_type": "code",
      "source": [
        "# Plot performance\n",
        "fig, (ax1,ax2) = plt.subplots(nrows=1, ncols=2, figsize=(12,6))\n",
        "fig.suptitle(\"Model Training (Frozen CNN)\", fontsize=12)\n",
        "max_epoch = len(history_01.history['accuracy'])+1\n",
        "epochs_list = list(range(1, max_epoch))\n",
        "\n",
        "ax1.plot(epochs_list, history_02.history['accuracy'], color='b', linestyle='-', label='Training Data')\n",
        "ax1.plot(epochs_list, history_02.history['val_accuracy'], color='r', linestyle='-', label='Validation Data')\n",
        "ax1.set_title('Training Accuracy', fontsize=12)\n",
        "ax1.set_xlabel('Epochs', fontsize=12)\n",
        "ax1.set_ylabel('Accuracy', fontsize=12)\n",
        "ax1.legend(frameon=False, loc='lower center', ncol=2)\n",
        "\n",
        "ax2.plot(epochs_list, history_02.history['loss'], color='b', linestyle='-', label='Training Data')\n",
        "ax2.plot(epochs_list, history_02.history['val_loss'], color='r', linestyle='-', label='Validation Data')\n",
        "ax2.set_title('Training Loss', fontsize=12)\n",
        "ax2.set_xlabel('Epochs', fontsize=12)\n",
        "ax2.set_ylabel('Loss', fontsize=12)\n",
        "ax2.legend(frameon=False, loc='upper center', ncol=2)\n",
        "plt.savefig(\"training_frozencnn.jpeg\", format='jpeg', dpi=100, bbox_inches='tight')"
      ],
      "metadata": {
        "id": "1nzujmXQBmTI"
      },
      "execution_count": null,
      "outputs": []
    },
    {
      "cell_type": "code",
      "source": [
        "if not os.path.isdir('model_weights/'):\n",
        "    os.mkdir('model_weights/')\n",
        "model_02.save_weights(filepath=\"model_weights/vgg19_model_02.weights.h5\", overwrite=True)"
      ],
      "metadata": {
        "id": "PyB-lg6MGoQY"
      },
      "execution_count": null,
      "outputs": []
    },
    {
      "cell_type": "code",
      "source": [
        "model_02.load_weights(\"model_weights/vgg19_model_02.weights.h5\")\n",
        "vgg_val_eval_02 = model_02.evaluate(valid_generator)\n",
        "vgg_test_eval_02 = model_02.evaluate(test_generator)"
      ],
      "metadata": {
        "id": "CLdmmB8xGtEs"
      },
      "execution_count": null,
      "outputs": []
    },
    {
      "cell_type": "code",
      "source": [
        "base_model = VGG19(include_top=False, input_shape=(240,240,3))\n",
        "base_model_layer_names = [layer.name for layer in base_model.layers]\n",
        "base_model_layer_names\n",
        "\n",
        "x=base_model.output\n",
        "flat = Flatten()(x)\n",
        "\n",
        "class_1 = Dense(4608, activation = 'relu')(flat)\n",
        "drop_out = Dropout(0.2)(class_1)\n",
        "class_2 = Dense(1152, activation = 'relu')(drop_out)\n",
        "output = Dense(2, activation = 'softmax')(class_2)\n",
        "\n",
        "model_03 = Model(base_model.inputs, output)\n",
        "model_03.load_weights('model_weights/vgg19_model_02.weights.h5')\n",
        "\n",
        "sgd = SGD(learning_rate=0.0001, decay = 1e-6, momentum = 0.9, nesterov = True)\n",
        "model_03.compile(loss='categorical_crossentropy', optimizer = sgd, metrics=['accuracy'])"
      ],
      "metadata": {
        "id": "NSO6U4jjHH_n"
      },
      "execution_count": null,
      "outputs": []
    },
    {
      "cell_type": "code",
      "source": [
        "model_03.summary()"
      ],
      "metadata": {
        "id": "OESCeSVjJW9w"
      },
      "execution_count": null,
      "outputs": []
    },
    {
      "cell_type": "code",
      "source": [
        "model_03.load_weights(\"model_weights/vgg19_model_02.weights.h5\")\n",
        "vgg_val_eval_03 = model_03.evaluate(valid_generator)\n",
        "vgg_test_eval_03 = model_03.evaluate(test_generator)"
      ],
      "metadata": {
        "id": "_FmUYxFrJdiq"
      },
      "execution_count": null,
      "outputs": []
    },
    {
      "cell_type": "code",
      "source": [],
      "metadata": {
        "id": "q8PTQDChJfr4"
      },
      "execution_count": null,
      "outputs": []
    }
  ]
}